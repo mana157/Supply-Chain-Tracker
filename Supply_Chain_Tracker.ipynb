{
  "nbformat": 4,
  "nbformat_minor": 0,
  "metadata": {
    "colab": {
      "provenance": []
    },
    "kernelspec": {
      "name": "python3",
      "display_name": "Python 3"
    },
    "language_info": {
      "name": "python"
    }
  },
  "cells": [
    {
      "cell_type": "code",
      "execution_count": 1,
      "metadata": {
        "id": "gkW1805OIeIB"
      },
      "outputs": [],
      "source": [
        "import hashlib\n",
        "import time"
      ]
    },
    {
      "cell_type": "code",
      "source": [
        "# ------------------------------\n",
        "# Block structure for the Blockchain\n",
        "# ------------------------------\n",
        "class Block:\n",
        "    def __init__(self, index, timestamp, data, previous_hash):\n",
        "        \"\"\"\n",
        "        Initialize a new block in the blockchain.\n",
        "\n",
        "        :param index: Position of the block in the chain\n",
        "        :param timestamp: Time when the block is created\n",
        "        :param data: Supply chain transaction details\n",
        "        :param previous_hash: Hash of the previous block\n",
        "        \"\"\"\n",
        "        self.index = index\n",
        "        self.timestamp = timestamp\n",
        "        self.data = data  # Supply chain transaction info\n",
        "        self.previous_hash = previous_hash\n",
        "        self.hash = self.calculate_hash()  # Unique hash for this block\n",
        "\n",
        "    def calculate_hash(self):\n",
        "        \"\"\"\n",
        "        Calculate the SHA-256 hash of the block's contents.\n",
        "        \"\"\"\n",
        "        block_string = (\n",
        "            str(self.index) +\n",
        "            str(self.timestamp) +\n",
        "            str(self.data) +\n",
        "            str(self.previous_hash)\n",
        "        )\n",
        "        return hashlib.sha256(block_string.encode()).hexdigest()\n"
      ],
      "metadata": {
        "id": "6zCwIwAoIx2C"
      },
      "execution_count": 2,
      "outputs": []
    },
    {
      "cell_type": "code",
      "source": [
        "\n",
        "# ------------------------------\n",
        "# Blockchain structure\n",
        "# ------------------------------\n",
        "class Blockchain:\n",
        "    def __init__(self):\n",
        "        \"\"\"\n",
        "        Initialize the blockchain with a genesis block.\n",
        "        \"\"\"\n",
        "        self.chain = [self.create_genesis_block()]\n",
        "\n",
        "    def create_genesis_block(self):\n",
        "        \"\"\"\n",
        "        Create the very first block of the blockchain.\n",
        "        \"\"\"\n",
        "        return Block(0, time.ctime(), \"Genesis Block - Product Created\", \"0\")\n",
        "\n",
        "    def get_latest_block(self):\n",
        "        \"\"\"\n",
        "        Get the most recently added block in the chain.\n",
        "        \"\"\"\n",
        "        return self.chain[-1]\n",
        "\n",
        "    def add_block(self, data):\n",
        "        \"\"\"\n",
        "        Add a new block to the blockchain.\n",
        "\n",
        "        :param data: Transaction details (e.g., supply chain movement)\n",
        "        \"\"\"\n",
        "        previous_block = self.get_latest_block()\n",
        "        new_block = Block(\n",
        "            index=len(self.chain),\n",
        "            timestamp=time.ctime(),\n",
        "            data=data,\n",
        "            previous_hash=previous_block.hash\n",
        "        )\n",
        "        self.chain.append(new_block)\n",
        "\n",
        "    def display_chain(self):\n",
        "        \"\"\"\n",
        "        Print the entire blockchain in a readable format.\n",
        "        \"\"\"\n",
        "        for block in self.chain:\n",
        "            print(\"---------------------------------------------------\")\n",
        "            print(f\"Block Index: {block.index}\")\n",
        "            print(f\"Timestamp: {block.timestamp}\")\n",
        "            print(f\"Data (Transaction): {block.data}\")\n",
        "            print(f\"Previous Hash: {block.previous_hash}\")\n",
        "            print(f\"Hash: {block.hash}\")\n"
      ],
      "metadata": {
        "id": "AzisQWxrI2qA"
      },
      "execution_count": 3,
      "outputs": []
    },
    {
      "cell_type": "code",
      "source": [
        "# ------------------------------\n",
        "# Demo: Supply Chain Simulation\n",
        "# ------------------------------\n",
        "supply_chain = Blockchain()\n",
        "\n",
        "# Simulating product journey across supply chain stages\n",
        "supply_chain.add_block(\"Manufacturer → Distributor\")\n",
        "supply_chain.add_block(\"Distributor → Retailer\")\n",
        "supply_chain.add_block(\"Retailer → Customer\")\n",
        "\n",
        "# Display the entire blockchain\n",
        "supply_chain.display_chain()\n"
      ],
      "metadata": {
        "colab": {
          "base_uri": "https://localhost:8080/"
        },
        "id": "VCTo7r-WI9Hp",
        "outputId": "4f4b161f-da5d-4a2d-8427-1bfc49c9317c"
      },
      "execution_count": 4,
      "outputs": [
        {
          "output_type": "stream",
          "name": "stdout",
          "text": [
            "---------------------------------------------------\n",
            "Block Index: 0\n",
            "Timestamp: Tue Aug 19 11:43:23 2025\n",
            "Data (Transaction): Genesis Block - Product Created\n",
            "Previous Hash: 0\n",
            "Hash: fbd97ea393d7cc8d9d725f5a6dd326efff3b6fa15c55e80ea1be7694efe60c66\n",
            "---------------------------------------------------\n",
            "Block Index: 1\n",
            "Timestamp: Tue Aug 19 11:43:23 2025\n",
            "Data (Transaction): Manufacturer → Distributor\n",
            "Previous Hash: fbd97ea393d7cc8d9d725f5a6dd326efff3b6fa15c55e80ea1be7694efe60c66\n",
            "Hash: 1b101f94833882012bf2d4f74106574491139297ca860be436b3f09661ac669f\n",
            "---------------------------------------------------\n",
            "Block Index: 2\n",
            "Timestamp: Tue Aug 19 11:43:23 2025\n",
            "Data (Transaction): Distributor → Retailer\n",
            "Previous Hash: 1b101f94833882012bf2d4f74106574491139297ca860be436b3f09661ac669f\n",
            "Hash: 59d7b67e6ce534ccfd568e960274cd22e7dac5d2668570cb92719e5a72a9dad2\n",
            "---------------------------------------------------\n",
            "Block Index: 3\n",
            "Timestamp: Tue Aug 19 11:43:23 2025\n",
            "Data (Transaction): Retailer → Customer\n",
            "Previous Hash: 59d7b67e6ce534ccfd568e960274cd22e7dac5d2668570cb92719e5a72a9dad2\n",
            "Hash: b02034048753a01fb71a87b7230cdd32445b7d9c294716fdaaa48ce810ec6c6e\n"
          ]
        }
      ]
    }
  ]
}